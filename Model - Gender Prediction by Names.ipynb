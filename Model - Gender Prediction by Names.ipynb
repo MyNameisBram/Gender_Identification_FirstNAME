{
 "cells": [
  {
   "cell_type": "code",
   "execution_count": 10,
   "metadata": {},
   "outputs": [],
   "source": [
    "import random \n",
    "import nltk\n",
    "from nltk.corpus import names \n",
    "\n",
    "\n",
    "# read the names from the files\n",
    "# label each name wiht the corresponding gender\n",
    "male_names = [(name, 'male') for name in names.words('male.txt')]\n",
    "female_names = [(name, 'female') for name in names.words('female.txt')]\n",
    "\n",
    "# combine the list\n",
    "labeled_names = male_names + female_names\n",
    "\n",
    "# shuffle the list \n",
    "random.shuffle(labeled_names)\n"
   ]
  },
  {
   "cell_type": "code",
   "execution_count": 11,
   "metadata": {},
   "outputs": [],
   "source": [
    "def gender_features(name):\n",
    "    \n",
    "    '''The first step in creating a classifier is deciding what features of \n",
    "the input are relevant, and how to encode those features. \n",
    "For this example, we'll start by just looking at the final letter of a given name. \n",
    "The following feature extractor function builds a \n",
    "dictionary containing relevant information about a given name:'''\n",
    "\n",
    "    return {'last_char': name[-1],\n",
    "        'last_two': name[-2:],\n",
    "        'last_three': name[-3:],\n",
    "        'first': name[0],\n",
    "        'first2': name[:1],\n",
    "        'first3':name[:2]}"
   ]
  },
  {
   "cell_type": "code",
   "execution_count": 12,
   "metadata": {},
   "outputs": [
    {
     "name": "stdout",
     "output_type": "stream",
     "text": [
      "0.822\n"
     ]
    }
   ],
   "source": [
    "from nltk import NaiveBayesClassifier\n",
    "\n",
    "# Extract freatures using the 'gender_features()' function \n",
    "featuresets = [(gender_features(n), gender) for (n, gender) in labeled_names]\n",
    "\n",
    "# Split the dataset into train and test set \n",
    "train, test = featuresets[500:], featuresets[:500]\n",
    "\n",
    "# Train A Naive Bayes classifier\n",
    "classifier = NaiveBayesClassifier.train(train)\n",
    "\n",
    "# Testing accuracy \n",
    "from nltk.classify import accuracy\n",
    "print(accuracy(classifier, test))"
   ]
  },
  {
   "cell_type": "code",
   "execution_count": 13,
   "metadata": {},
   "outputs": [
    {
     "name": "stdout",
     "output_type": "stream",
     "text": [
      "Most Informative Features\n",
      "                last_two = 'na'           female : male   =    164.1 : 1.0\n",
      "                last_two = 'la'           female : male   =     73.7 : 1.0\n",
      "                last_two = 'ia'           female : male   =     39.7 : 1.0\n",
      "               last_char = 'a'            female : male   =     37.8 : 1.0\n",
      "                last_two = 'sa'           female : male   =     33.8 : 1.0\n",
      "               last_char = 'k'              male : female =     32.7 : 1.0\n",
      "                last_two = 'ta'           female : male   =     32.6 : 1.0\n",
      "                last_two = 'rd'             male : female =     32.1 : 1.0\n",
      "              last_three = 'ard'            male : female =     29.2 : 1.0\n",
      "                last_two = 'us'             male : female =     28.7 : 1.0\n"
     ]
    }
   ],
   "source": [
    "# Showing most important features \n",
    "classifier.show_most_informative_features(10)"
   ]
  },
  {
   "cell_type": "code",
   "execution_count": 14,
   "metadata": {},
   "outputs": [
    {
     "name": "stdout",
     "output_type": "stream",
     "text": [
      "Rudolph is most probably a male.\n",
      "Samantha is most probably a female.\n"
     ]
    }
   ],
   "source": [
    "male_gender = classifier.classify(gender_features('Rudolph'))\n",
    "female_gender = classifier.classify(gender_features('Samantha'))\n",
    "print(\"Rudolph is most probably a {}.\".format(male_gender))\n",
    "print(\"Samantha is most probably a {}.\".format(female_gender))"
   ]
  },
  {
   "cell_type": "markdown",
   "metadata": {},
   "source": [
    "# pickling our model "
   ]
  },
  {
   "cell_type": "code",
   "execution_count": 15,
   "metadata": {},
   "outputs": [],
   "source": [
    "import pickle\n",
    "\n",
    "gender_classifier = 'Gender_Classifier_Modek.pkl'\n",
    "\n",
    "with open(gender_classifier, 'wb') as file: \n",
    "    pickle.dump(classifier, file)"
   ]
  },
  {
   "cell_type": "markdown",
   "metadata": {},
   "source": [
    "# testing our pickled model "
   ]
  },
  {
   "cell_type": "code",
   "execution_count": 16,
   "metadata": {},
   "outputs": [],
   "source": [
    "with open(gender_classifier, 'rb') as file: \n",
    "    pickled_gndr_cls = pickle.load(file)"
   ]
  },
  {
   "cell_type": "code",
   "execution_count": 17,
   "metadata": {},
   "outputs": [
    {
     "data": {
      "text/plain": [
       "<nltk.classify.naivebayes.NaiveBayesClassifier at 0xc859f19e48>"
      ]
     },
     "execution_count": 17,
     "metadata": {},
     "output_type": "execute_result"
    }
   ],
   "source": [
    "pickled_gndr_cls"
   ]
  },
  {
   "cell_type": "code",
   "execution_count": 18,
   "metadata": {},
   "outputs": [
    {
     "data": {
      "text/plain": [
       "'male'"
      ]
     },
     "execution_count": 18,
     "metadata": {},
     "output_type": "execute_result"
    }
   ],
   "source": [
    "# Testing\n",
    "pickled_gndr_cls.classify(gender_features('Bram'))"
   ]
  },
  {
   "cell_type": "code",
   "execution_count": 19,
   "metadata": {},
   "outputs": [],
   "source": [
    "list_names = ['John', 'Mike', 'Michelle', 'Kedrin', 'Debbie', \n",
    "    'Courtney', 'Mark', 'Chris', 'Jeff', 'Adrian', \n",
    "    'Shannon', 'Michael','Bram', 'Max', 'Hana']"
   ]
  },
  {
   "cell_type": "code",
   "execution_count": 20,
   "metadata": {},
   "outputs": [],
   "source": [
    "genders = []\n",
    "\n",
    "for name in list_names: \n",
    "    genders.append(pickled_gndr_cls.classify(gender_features(name)))"
   ]
  },
  {
   "cell_type": "code",
   "execution_count": 21,
   "metadata": {},
   "outputs": [
    {
     "data": {
      "text/html": [
       "<div>\n",
       "<style scoped>\n",
       "    .dataframe tbody tr th:only-of-type {\n",
       "        vertical-align: middle;\n",
       "    }\n",
       "\n",
       "    .dataframe tbody tr th {\n",
       "        vertical-align: top;\n",
       "    }\n",
       "\n",
       "    .dataframe thead th {\n",
       "        text-align: right;\n",
       "    }\n",
       "</style>\n",
       "<table border=\"1\" class=\"dataframe\">\n",
       "  <thead>\n",
       "    <tr style=\"text-align: right;\">\n",
       "      <th></th>\n",
       "      <th>Name</th>\n",
       "      <th>Gender</th>\n",
       "    </tr>\n",
       "  </thead>\n",
       "  <tbody>\n",
       "    <tr>\n",
       "      <td>0</td>\n",
       "      <td>John</td>\n",
       "      <td>male</td>\n",
       "    </tr>\n",
       "    <tr>\n",
       "      <td>1</td>\n",
       "      <td>Mike</td>\n",
       "      <td>female</td>\n",
       "    </tr>\n",
       "    <tr>\n",
       "      <td>2</td>\n",
       "      <td>Michelle</td>\n",
       "      <td>female</td>\n",
       "    </tr>\n",
       "    <tr>\n",
       "      <td>3</td>\n",
       "      <td>Kedrin</td>\n",
       "      <td>female</td>\n",
       "    </tr>\n",
       "    <tr>\n",
       "      <td>4</td>\n",
       "      <td>Debbie</td>\n",
       "      <td>female</td>\n",
       "    </tr>\n",
       "    <tr>\n",
       "      <td>5</td>\n",
       "      <td>Courtney</td>\n",
       "      <td>female</td>\n",
       "    </tr>\n",
       "    <tr>\n",
       "      <td>6</td>\n",
       "      <td>Mark</td>\n",
       "      <td>male</td>\n",
       "    </tr>\n",
       "    <tr>\n",
       "      <td>7</td>\n",
       "      <td>Chris</td>\n",
       "      <td>female</td>\n",
       "    </tr>\n",
       "    <tr>\n",
       "      <td>8</td>\n",
       "      <td>Jeff</td>\n",
       "      <td>male</td>\n",
       "    </tr>\n",
       "    <tr>\n",
       "      <td>9</td>\n",
       "      <td>Adrian</td>\n",
       "      <td>male</td>\n",
       "    </tr>\n",
       "    <tr>\n",
       "      <td>10</td>\n",
       "      <td>Shannon</td>\n",
       "      <td>male</td>\n",
       "    </tr>\n",
       "    <tr>\n",
       "      <td>11</td>\n",
       "      <td>Michael</td>\n",
       "      <td>male</td>\n",
       "    </tr>\n",
       "    <tr>\n",
       "      <td>12</td>\n",
       "      <td>Bram</td>\n",
       "      <td>male</td>\n",
       "    </tr>\n",
       "    <tr>\n",
       "      <td>13</td>\n",
       "      <td>Max</td>\n",
       "      <td>male</td>\n",
       "    </tr>\n",
       "    <tr>\n",
       "      <td>14</td>\n",
       "      <td>Hana</td>\n",
       "      <td>female</td>\n",
       "    </tr>\n",
       "  </tbody>\n",
       "</table>\n",
       "</div>"
      ],
      "text/plain": [
       "        Name  Gender\n",
       "0       John    male\n",
       "1       Mike  female\n",
       "2   Michelle  female\n",
       "3     Kedrin  female\n",
       "4     Debbie  female\n",
       "5   Courtney  female\n",
       "6       Mark    male\n",
       "7      Chris  female\n",
       "8       Jeff    male\n",
       "9     Adrian    male\n",
       "10   Shannon    male\n",
       "11   Michael    male\n",
       "12      Bram    male\n",
       "13       Max    male\n",
       "14      Hana  female"
      ]
     },
     "execution_count": 21,
     "metadata": {},
     "output_type": "execute_result"
    }
   ],
   "source": [
    "import pandas as pd\n",
    "\n",
    "# converting into dataframes\n",
    "list_names = pd.DataFrame(list_names)\n",
    "genders = pd.DataFrame(genders)\n",
    "\n",
    "# merging\n",
    "complete = list_names.merge(genders, how='outer', left_index=True, right_index=True)\n",
    "complete.columns = ['Name', 'Gender']\n",
    "complete"
   ]
  },
  {
   "cell_type": "code",
   "execution_count": null,
   "metadata": {},
   "outputs": [],
   "source": []
  }
 ],
 "metadata": {
  "kernelspec": {
   "display_name": "Python [conda env:capio-env] *",
   "language": "python",
   "name": "conda-env-capio-env-py"
  },
  "language_info": {
   "codemirror_mode": {
    "name": "ipython",
    "version": 3
   },
   "file_extension": ".py",
   "mimetype": "text/x-python",
   "name": "python",
   "nbconvert_exporter": "python",
   "pygments_lexer": "ipython3",
   "version": "3.6.9"
  }
 },
 "nbformat": 4,
 "nbformat_minor": 2
}
